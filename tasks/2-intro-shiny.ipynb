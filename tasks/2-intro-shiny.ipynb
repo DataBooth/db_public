{
 "cells": [
  {
   "cell_type": "markdown",
   "metadata": {},
   "source": [
    "## Intro to Shiny for Python"
   ]
  },
  {
   "cell_type": "markdown",
   "metadata": {},
   "source": [
    "### Task\n",
    "\n",
    "`Shiny` has long been a GUI available for `R`. However recently it has been released for Python.\n",
    "\n",
    "With reference to the following example [article](https://towardsdatascience.com/learn-shiny-for-python-with-a-puppy-traits-dashboard-cc65f05e88c4) and/or your own research, build a Shiny for Python app which explores a (simple) dataset of your choosing and displays some interesting characteristic of it - either exploratory or using a relevant modelling technique. Feel welcome to recycle some previous analysis."
   ]
  },
  {
   "cell_type": "markdown",
   "metadata": {},
   "source": [
    "#### Extension task\n",
    "\n",
    "[Streamlit](https://streamlit.io) is another data web app framework that we use often. The task is to \"migrate\" (replicate) the Shiny app you built in the Streamlit framework. Ideally you might structure your front-end code so that it is decoupled from your backend logic so that it can be used in both apps.\n",
    "\n",
    "#### Further extension\n",
    "\n",
    "Discuss how you might test the app(s)."
   ]
  },
  {
   "cell_type": "markdown",
   "metadata": {
    "vscode": {
     "languageId": "bat"
    }
   },
   "source": [
    "### References"
   ]
  },
  {
   "cell_type": "markdown",
   "metadata": {},
   "source": [
    "- [Shiny for Python](https://shiny.posit.co/py/)\n",
    "- [“Learn Shiny for Python with a Puppy Traits Dashboard“ by Deepsha Menghani on Medium*](https://towardsdatascience.com/learn-shiny-for-python-with-a-puppy-traits-dashboard-cc65f05e88c4)\n",
    "- [Streamlit](https://streamlit.io)\n",
    "\n",
    "* If you can't access artile ping me"
   ]
  },
  {
   "cell_type": "markdown",
   "metadata": {},
   "source": []
  }
 ],
 "metadata": {
  "language_info": {
   "name": "python"
  }
 },
 "nbformat": 4,
 "nbformat_minor": 2
}
