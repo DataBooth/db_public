{
 "cells": [
  {
   "cell_type": "raw",
   "metadata": {
    "vscode": {
     "languageId": "raw"
    }
   },
   "source": [
    "---\n",
    "title: \"Task 2: Introduction to Shiny for Python\"\n",
    "date: \"now\"\n",
    "date-format: \"ddd MMM D, YYYY h:mm A\"\n",
    "author:\n",
    "  - name: \"Michael J. Booth\"\n",
    "    email: michael@databooth.com.au\n",
    "    affiliation: \n",
    "      - name: DataBooth\n",
    "        url: www.databooth.com.au\n",
    "title-block-banner: true\n",
    "format:\n",
    "  html:\n",
    "    code-tools: true\n",
    "    code-fold: false\n",
    "    toc: true\n",
    "---"
   ]
  },
  {
   "cell_type": "code",
   "execution_count": 1,
   "metadata": {},
   "outputs": [],
   "source": [
    "# | echo: false\n",
    "\n",
    "from sys import version, stderr\n",
    "from IPython.display import display, Markdown\n",
    "from loguru import logger\n",
    "\n",
    "def set_custom_logger_format():\n",
    "    custom_format_no_func_info = \"<level>{level: <8}</level> | <level>{message}</level>\"\n",
    "    logger.remove()    # Remove the default handler before adding a new one\n",
    "    logger.add(stderr, format=custom_format_no_func_info)\n",
    "\n",
    "set_custom_logger_format()"
   ]
  },
  {
   "cell_type": "markdown",
   "metadata": {},
   "source": [
    "## Intro to Shiny for Python"
   ]
  },
  {
   "cell_type": "markdown",
   "metadata": {},
   "source": [
    "### Task\n",
    "\n",
    "`Shiny` has long been a GUI framework available for developing web apps for `R`. Relatively recently it has been released for Python.\n",
    "\n",
    "If you are not familiar with the [Posit](https://posit.co) company I recommending following them - they are doing some nice things like Shiny for Python and, for example, [Quarto](https://quarto.org).\n",
    "\n",
    "With reference to the following example [article](https://towardsdatascience.com/learn-shiny-for-python-with-a-puppy-traits-dashboard-cc65f05e88c4) and/or your own research, build a Shiny for Python app which explores a (simple) dataset of your choosing and displays some interesting characteristic of it - either exploratory or using a relevant modelling technique. Feel welcome to recycle some previous analysis."
   ]
  },
  {
   "cell_type": "markdown",
   "metadata": {},
   "source": [
    "#### Extension task\n",
    "\n",
    "[Streamlit](https://streamlit.io) is another data web app framework that we use often. The task is to \"migrate\" (replicate) the Shiny app you built above into the Streamlit framework. Ideally you might structure your front-end code so that it is decoupled from your backend logic so that it can be used in both apps.\n",
    "\n",
    "#### Further extension\n",
    "\n",
    "Discuss how you might test the various elements of the app(s)."
   ]
  },
  {
   "cell_type": "markdown",
   "metadata": {
    "vscode": {
     "languageId": "bat"
    }
   },
   "source": [
    "### References"
   ]
  },
  {
   "cell_type": "markdown",
   "metadata": {},
   "source": [
    "- [Shiny for Python](https://shiny.posit.co/py/)\n",
    "- [“Learn Shiny for Python with a Puppy Traits Dashboard“ by Deepsha Menghani on Medium ^](https://towardsdatascience.com/learn-shiny-for-python-with-a-puppy-traits-dashboard-cc65f05e88c4)\n",
    "- [Streamlit](https://streamlit.io)\n",
    "\n",
    "^If you can't access this article ping me - although I imagine there are a few similar articles."
   ]
  },
  {
   "cell_type": "markdown",
   "metadata": {},
   "source": [
    "### Version information\n",
    "\n",
    "These are the versions of the packages and Python that I typically use at present.\n",
    "\n",
    "#### Packages\n",
    "\n",
    "See `pyproject.toml` for package information.\n",
    "\n",
    "#### Python"
   ]
  },
  {
   "cell_type": "code",
   "execution_count": 2,
   "metadata": {},
   "outputs": [
    {
     "name": "stderr",
     "output_type": "stream",
     "text": [
      "\u001b[1mINFO    \u001b[0m | \u001b[1mPython: 3.11.9 (main, May  2 2024, 17:46:25) [Clang 15.0.0 (clang-1500.3.9.4)]\u001b[0m\n"
     ]
    }
   ],
   "source": [
    "logger.info(f\"Python: {version}\")"
   ]
  },
  {
   "cell_type": "markdown",
   "metadata": {},
   "source": []
  }
 ],
 "metadata": {
  "kernelspec": {
   "display_name": ".venv",
   "language": "python",
   "name": "python3"
  },
  "language_info": {
   "codemirror_mode": {
    "name": "ipython",
    "version": 3
   },
   "file_extension": ".py",
   "mimetype": "text/x-python",
   "name": "python",
   "nbconvert_exporter": "python",
   "pygments_lexer": "ipython3",
   "version": "3.11.9"
  }
 },
 "nbformat": 4,
 "nbformat_minor": 2
}
