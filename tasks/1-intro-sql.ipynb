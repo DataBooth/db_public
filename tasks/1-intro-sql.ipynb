{
 "cells": [
  {
   "cell_type": "raw",
   "metadata": {
    "vscode": {
     "languageId": "raw"
    }
   },
   "source": [
    "---\n",
    "title: \"Task 1: Introduction to SQL\"\n",
    "date: \"now\"\n",
    "date-format: \"ddd MMM D, YYYY h:mm A\"\n",
    "author:\n",
    "  - name: \"Michael J. Booth\"\n",
    "    email: michael@databooth.com.au\n",
    "    affiliation: \n",
    "      - name: DataBooth\n",
    "        url: www.databooth.com.au\n",
    "title-block-banner: true\n",
    "format:\n",
    "  html:\n",
    "    code-tools: true\n",
    "    code-fold: false\n",
    "    toc: true\n",
    "---"
   ]
  },
  {
   "cell_type": "code",
   "execution_count": 1,
   "metadata": {},
   "outputs": [],
   "source": [
    "# | echo: false\n",
    "\n",
    "from sys import version, stderr\n",
    "from IPython.display import display, Markdown\n",
    "from loguru import logger\n",
    "\n",
    "def set_custom_logger_format():\n",
    "    custom_format_no_func_info = \"<level>{level: <8}</level> | <level>{message}</level>\"\n",
    "    logger.remove()    # Remove the default handler before adding a new one\n",
    "    logger.add(stderr, format=custom_format_no_func_info)\n",
    "\n",
    "set_custom_logger_format()"
   ]
  },
  {
   "cell_type": "markdown",
   "metadata": {},
   "source": [
    "## Introductory SQL\n",
    "\n",
    "### Introduction \n",
    "\n",
    "My ex-colleague Danny from [DataWithDanny.com](https://datawithdanny.com) has a nice (complimentary) introductory tutorial on `SQL`.\n",
    "\n",
    "Danny also offers a **Virtual Data Internship** which is a paid course for developing your SQL skills which I happily recommend.\n",
    "\n"
   ]
  },
  {
   "cell_type": "markdown",
   "metadata": {},
   "source": [
    "### Task\n",
    "\n",
    "The task is to complete one or more of Danny's 8 Week SQL Challenge case studies. Ideally you should present your code and results using a [`Juypter`](https://jupyter.org) notebook and [`DuckDB`](https://motherduck.com/blog/duckdb-tutorial-for-beginners/). Alternatively, you can take a different approach with approach and/or presentation, although `DuckDB` is cool and a great tool to get experience with."
   ]
  },
  {
   "cell_type": "markdown",
   "metadata": {},
   "source": [
    "##### Danny's 8 Week SQL Challenge - Case Studies\n",
    "\n",
    "1. [Case Study 1](https://8weeksqlchallenge.com/case-study-1/)\n",
    "2. [Case Study 2](https://8weeksqlchallenge.com/case-study-2/)\n",
    "3. [Case Study 3](https://8weeksqlchallenge.com/case-study-3/)\n",
    "4. [Case Study 4](https://8weeksqlchallenge.com/case-study-4/)\n",
    "5. [Case Study 5](https://8weeksqlchallenge.com/case-study-5/)\n",
    "6. [Case Study 6](https://8weeksqlchallenge.com/case-study-6/)\n",
    "7. [Case Study 7](https://8weeksqlchallenge.com/case-study-7/)\n",
    "8. [Case Study 8](https://8weeksqlchallenge.com/case-study-8/)"
   ]
  },
  {
   "cell_type": "markdown",
   "metadata": {},
   "source": [
    "### References\n",
    "\n",
    "- [Data with Danny](https://www.datawithdanny.com)\n",
    "- [Jupyter](https://jupyter.org)\n",
    "- [DuckDB](https://duckdb.org)"
   ]
  },
  {
   "cell_type": "markdown",
   "metadata": {},
   "source": [
    "### Version information\n",
    "\n",
    "These are the versions of the packages and Python that I typically use at present.\n",
    "\n",
    "#### Packages\n",
    "\n",
    "See `pyproject.toml` for package information.\n",
    "\n",
    "#### Python"
   ]
  },
  {
   "cell_type": "code",
   "execution_count": 2,
   "metadata": {},
   "outputs": [
    {
     "name": "stderr",
     "output_type": "stream",
     "text": [
      "\u001b[1mINFO    \u001b[0m | \u001b[1mPython: 3.11.9 (main, May  2 2024, 17:46:25) [Clang 15.0.0 (clang-1500.3.9.4)]\u001b[0m\n"
     ]
    }
   ],
   "source": [
    "logger.info(f\"Python: {version}\")"
   ]
  }
 ],
 "metadata": {
  "kernelspec": {
   "display_name": "Python 3",
   "language": "python",
   "name": "python3"
  },
  "language_info": {
   "codemirror_mode": {
    "name": "ipython",
    "version": 3
   },
   "file_extension": ".py",
   "mimetype": "text/x-python",
   "name": "python",
   "nbconvert_exporter": "python",
   "pygments_lexer": "ipython3",
   "version": "3.11.9"
  }
 },
 "nbformat": 4,
 "nbformat_minor": 2
}
