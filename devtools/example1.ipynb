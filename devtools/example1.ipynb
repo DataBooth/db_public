{
 "cells": [
  {
   "cell_type": "code",
   "execution_count": 1,
   "metadata": {},
   "outputs": [],
   "source": [
    "import inspect\n",
    "import re\n",
    "import sys\n",
    "from io import StringIO\n",
    "\n",
    "from devtools import debug as _debug"
   ]
  },
  {
   "cell_type": "code",
   "execution_count": 2,
   "metadata": {},
   "outputs": [],
   "source": [
    "class CustomDebug:\n",
    "    \"\"\"\n",
    "    A wrapper class for the devtools debug function that provides custom output formatting.\n",
    "\n",
    "    This class wraps the original debug function from the devtools library,\n",
    "    modifying its output to remove unwanted information (such as ipykernel references)\n",
    "    and preserve the original debug expressions, including cases with multiple arguments.\n",
    "\n",
    "    Attributes:\n",
    "        original_debug (function): The original debug function from devtools.\n",
    "\n",
    "    Methods:\n",
    "        __call__(*args, **kwargs): Invokes the debug function with custom output formatting.\n",
    "        __getattr__(name): Provides access to attributes of the original debug object.\n",
    "\n",
    "    Usage:\n",
    "        debug = CustomDebug(_debug)\n",
    "        debug(expression1, expression2, ...)  # Use like the original debug function\n",
    "        with debug.timer('label'):  # Use timer and other methods as before\n",
    "            ...\n",
    "\n",
    "    The custom output removes ipykernel references and line numbers,\n",
    "    and replaces argument placeholders with the actual debug expressions used in the code.\n",
    "    This results in cleaner, more readable debug output, especially useful\n",
    "    in Jupyter notebook environments.\n",
    "    \"\"\"\n",
    "\n",
    "    def __init__(self, original_debug):\n",
    "        self.original_debug = original_debug\n",
    "\n",
    "    def __call__(self, *args, **kwargs):\n",
    "        # Get the calling frame\n",
    "        frame = inspect.currentframe().f_back\n",
    "        # Get the line of code that called debug\n",
    "        context = inspect.getframeinfo(frame).code_context\n",
    "        if context:\n",
    "            # Extract the arguments passed to debug\n",
    "            call_line = context[0].strip()\n",
    "            debug_args = call_line[call_line.index('debug(') + 6:].rstrip(')').strip()\n",
    "        else:\n",
    "            debug_args = 'unknown'\n",
    "\n",
    "        old_stdout = sys.stdout\n",
    "        sys.stdout = StringIO()\n",
    "        \n",
    "        self.original_debug(*args, **kwargs)\n",
    "        \n",
    "        output = sys.stdout.getvalue()\n",
    "        sys.stdout = old_stdout\n",
    "\n",
    "        # Clean the output\n",
    "        lines = output.split('\\n')\n",
    "        cleaned_lines = []\n",
    "        arg_index = 0\n",
    "        for line in lines:\n",
    "            if 'ipykernel' not in line:\n",
    "                # Remove line numbers and module info\n",
    "                line = re.sub(r'^.*?<module>\\s*', '', line)\n",
    "                # Replace argument placeholders with actual expressions\n",
    "                if line.strip().startswith('args['):\n",
    "                    arg_expressions = [arg.strip() for arg in debug_args.split(',')]\n",
    "                    if arg_index < len(arg_expressions):\n",
    "                        line = line.replace(f'args[{arg_index}]', arg_expressions[arg_index])\n",
    "                        arg_index += 1\n",
    "                cleaned_lines.append(line)\n",
    "\n",
    "        cleaned_output = '\\n'.join(cleaned_lines).strip()\n",
    "        print(cleaned_output)\n",
    "\n",
    "    def __getattr__(self, name):\n",
    "        return getattr(self.original_debug, name)\n",
    "\n",
    "# Replace the original debug function\n",
    "debug = CustomDebug(_debug)"
   ]
  },
  {
   "cell_type": "markdown",
   "metadata": {},
   "source": [
    "## Example 1\n",
    "\n",
    "\n",
    "Key differences and advantages of `debug()`:\n",
    "\n",
    "- Formatting: `debug()` provides a well-indented, multi-line output that's much easier to read than the single-line output from print().\n",
    "- Custom Classes: Both `print()` and `debug()` respect the custom `__repr__` of the `Employee` class, but `debug()` presents them in a more readable format.\n",
    "- Complex Types: The `datetime.date` object and `numpy.array` are displayed clearly in the `debug()` output, making it easy to understand their types and values.\n",
    "- Nested Structures: The nested dictionary (`revenue`) and list (`products`) are clearly formatted in the `debug()` output, improving readability.\n",
    "- Context Information: debug() includes the file name and line number, which is extremely helpful when debugging larger code-bases.\n",
    "- Colour Highlighting: In a terminal, `debug()` would also provide syntax highlighting, further enhancing readability (not shown in this text-based example)."
   ]
  },
  {
   "cell_type": "code",
   "execution_count": 7,
   "metadata": {},
   "outputs": [],
   "source": [
    "import datetime\n",
    "import numpy as np"
   ]
  },
  {
   "cell_type": "code",
   "execution_count": 8,
   "metadata": {},
   "outputs": [],
   "source": [
    "class Employee:\n",
    "    def __init__(self, name, role):\n",
    "        self.name = name\n",
    "        self.role = role\n",
    "\n",
    "    def __repr__(self):\n",
    "        return f\"Employee('{self.name}', '{self.role}')\"\n",
    "\n",
    "\n",
    "company_data = {\n",
    "    \"name\": \"TechInnovate Inc.\",\n",
    "    \"founded\": datetime.date(2010, 5, 15),\n",
    "    \"employees\": [\n",
    "        Employee(\"Alice Johnson\", \"Software Engineer\"),\n",
    "        Employee(\"Bob Smith\", \"Data Scientist\"),\n",
    "    ],\n",
    "    \"revenue\": {\"2022\": 1500000, \"2023\": 2000000},\n",
    "    \"products\": [\"AI Assistant\", \"Smart Analytics\", \"Cloud Services\"],\n",
    "    \"market_share\": np.array([0.05, 0.07, 0.06, 0.08]),\n",
    "    \"active\": True,\n",
    "}"
   ]
  },
  {
   "cell_type": "code",
   "execution_count": 13,
   "metadata": {},
   "outputs": [
    {
     "name": "stdout",
     "output_type": "stream",
     "text": [
      "Using print():\n",
      "\n",
      "{'name': 'TechInnovate Inc.', 'founded': datetime.date(2010, 5, 15), 'employees': [Employee('Alice Johnson', 'Software Engineer'), Employee('Bob Smith', 'Data Scientist')], 'revenue': {'2022': 1500000, '2023': 2000000}, 'products': ['AI Assistant', 'Smart Analytics', 'Cloud Services'], 'market_share': array([0.05, 0.07, 0.06, 0.08]), 'active': True}\n"
     ]
    }
   ],
   "source": [
    "print(\"Using print():\\n\")\n",
    "print(company_data)"
   ]
  },
  {
   "cell_type": "code",
   "execution_count": 12,
   "metadata": {},
   "outputs": [
    {
     "name": "stdout",
     "output_type": "stream",
     "text": [
      "\n",
      "Using debug():\n",
      "\n",
      "company_data: {\n",
      "        'name': 'TechInnovate Inc.',\n",
      "        'founded': datetime.date(2010, 5, 15),\n",
      "        'employees': [\n",
      "            Employee('Alice Johnson', 'Software Engineer'),\n",
      "            Employee('Bob Smith', 'Data Scientist'),\n",
      "        ],\n",
      "        'revenue': {\n",
      "            '2022': 1500000,\n",
      "            '2023': 2000000,\n",
      "        },\n",
      "        'products': [\n",
      "            'AI Assistant',\n",
      "            'Smart Analytics',\n",
      "            'Cloud Services',\n",
      "        ],\n",
      "        'market_share': array([0.05, 0.07, 0.06, 0.08]),\n",
      "        'active': True,\n",
      "    } (dict) len=7\n"
     ]
    }
   ],
   "source": [
    "print(\"\\nUsing debug():\\n\")\n",
    "debug(company_data)"
   ]
  },
  {
   "cell_type": "markdown",
   "metadata": {},
   "source": [
    "## Example 2"
   ]
  },
  {
   "cell_type": "code",
   "execution_count": 3,
   "metadata": {},
   "outputs": [],
   "source": [
    "import time"
   ]
  },
  {
   "cell_type": "code",
   "execution_count": 4,
   "metadata": {},
   "outputs": [
    {
     "name": "stdout",
     "output_type": "stream",
     "text": [
      "x: [1, 2, 3] (list) len=3\n"
     ]
    }
   ],
   "source": [
    "x = [1, 2, 3]\n",
    "debug(x)"
   ]
  },
  {
   "cell_type": "code",
   "execution_count": 5,
   "metadata": {},
   "outputs": [],
   "source": [
    "def process_data(data):\n",
    "    time.sleep(2.1)  # Simulating some processing time\n",
    "    return [x * 2 for x in data]"
   ]
  },
  {
   "cell_type": "code",
   "execution_count": 6,
   "metadata": {},
   "outputs": [
    {
     "name": "stdout",
     "output_type": "stream",
     "text": [
      "Data Processing: 2.103s elapsed\n",
      "len(result: 1000 (int)\n"
     ]
    }
   ],
   "source": [
    "large_dataset = list(range(1000))\n",
    "\n",
    "with debug.timer(\"Data Processing\"):\n",
    "    result = process_data(large_dataset)\n",
    "\n",
    "debug(len(result))"
   ]
  },
  {
   "cell_type": "markdown",
   "metadata": {},
   "source": [
    "## Example 3:\n",
    "\n",
    "Complex number example\n"
   ]
  },
  {
   "cell_type": "code",
   "execution_count": 14,
   "metadata": {},
   "outputs": [
    {
     "name": "stdout",
     "output_type": "stream",
     "text": [
      "numbers: [\n",
      "        ComplexNumber(1, 2),\n",
      "        ComplexNumber(3, -4),\n",
      "    ] (list) len=2\n"
     ]
    }
   ],
   "source": [
    "class ComplexNumber:\n",
    "    def __init__(self, real, imag):\n",
    "        self.real = real\n",
    "        self.imag = imag\n",
    "\n",
    "    def __repr__(self):\n",
    "        return f\"ComplexNumber({self.real}, {self.imag})\"\n",
    "\n",
    "\n",
    "numbers = [ComplexNumber(1, 2), ComplexNumber(3, -4)]\n",
    "debug(numbers)"
   ]
  },
  {
   "cell_type": "markdown",
   "metadata": {},
   "source": [
    "## Examples from Documentation"
   ]
  },
  {
   "cell_type": "markdown",
   "metadata": {},
   "source": [
    "Eg. A."
   ]
  },
  {
   "cell_type": "code",
   "execution_count": 15,
   "metadata": {},
   "outputs": [
    {
     "name": "stdout",
     "output_type": "stream",
     "text": [
      "v1, sum(range(5: {\n",
      "        'foo': {\n",
      "            1: 'nested',\n",
      "            2: 'dict',\n",
      "        },\n",
      "        'bar': [\n",
      "            'apple',\n",
      "            'banana',\n",
      "            'carrot',\n",
      "            'grapefruit',\n",
      "        ],\n",
      "    } (dict) len=2\n"
     ]
    }
   ],
   "source": [
    "v1 = {\n",
    "    'foo': {1: 'nested', 2: 'dict'},\n",
    "    'bar': ['apple', 'banana', 'carrot', 'grapefruit'],\n",
    "}\n",
    "\n",
    "debug(v1, sum(range(5)))"
   ]
  },
  {
   "cell_type": "code",
   "execution_count": null,
   "metadata": {},
   "outputs": [],
   "source": [
    "docs/examples/example.py:8 <module>\n",
    "    v1: {\n",
    "        'foo': {\n",
    "            1: 'nested',\n",
    "            2: 'dict',\n",
    "        },\n",
    "        'bar': [\n",
    "            'apple',\n",
    "            'banana',\n",
    "            'carrot',\n",
    "            'grapefruit',\n",
    "        ],\n",
    "    } (dict) len=2\n",
    "    sum(range(5)): 10 (int)"
   ]
  }
 ],
 "metadata": {
  "kernelspec": {
   "display_name": ".venv",
   "language": "python",
   "name": "python3"
  },
  "language_info": {
   "codemirror_mode": {
    "name": "ipython",
    "version": 3
   },
   "file_extension": ".py",
   "mimetype": "text/x-python",
   "name": "python",
   "nbconvert_exporter": "python",
   "pygments_lexer": "ipython3",
   "version": "3.11.9"
  }
 },
 "nbformat": 4,
 "nbformat_minor": 2
}
