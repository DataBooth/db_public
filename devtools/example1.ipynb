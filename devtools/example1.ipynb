{
 "cells": [
  {
   "cell_type": "code",
   "execution_count": 1,
   "metadata": {},
   "outputs": [],
   "source": [
    "import inspect\n",
    "import re\n",
    "import sys\n",
    "from io import StringIO\n",
    "\n",
    "from devtools import debug as _debug"
   ]
  },
  {
   "cell_type": "code",
   "execution_count": 2,
   "metadata": {},
   "outputs": [],
   "source": [
    "import logging\n",
    "\n",
    "# Set up logging\n",
    "logging.basicConfig(level=logging.DEBUG)\n",
    "logger = logging.getLogger(__name__)"
   ]
  },
  {
   "cell_type": "code",
   "execution_count": 3,
   "metadata": {},
   "outputs": [],
   "source": [
    "class CustomDebug:\n",
    "    \"\"\"\n",
    "    A wrapper class for the devtools debug function that provides custom output formatting.\n",
    "\n",
    "    This class wraps the original debug function from the devtools library,\n",
    "    modifying its output to remove unwanted information (such as ipykernel references)\n",
    "    and preserve the original debug expressions, including cases with multiple arguments.\n",
    "\n",
    "    Attributes:\n",
    "        original_debug (function): The original debug function from devtools.\n",
    "\n",
    "    Methods:\n",
    "        __call__(*args, **kwargs): Invokes the debug function with custom output formatting.\n",
    "        __getattr__(name): Provides access to attributes of the original debug object.\n",
    "\n",
    "    Usage:\n",
    "        debug = CustomDebug(_debug)\n",
    "        debug(expression1, expression2, ...)  # Use like the original debug function\n",
    "        with debug.timer('label'):  # Use timer and other methods as before\n",
    "            ...\n",
    "\n",
    "    The custom output removes ipykernel references and line numbers,\n",
    "    and replaces argument placeholders with the actual debug expressions used in the code.\n",
    "    This results in cleaner, more readable debug output, in Jupyter notebook-type environments.\n",
    "    \"\"\"\n",
    "    def __init__(self, original_debug):\n",
    "        self.original_debug = original_debug\n",
    "\n",
    "    def __call__(self, *args, **kwargs):\n",
    "        # logger.debug(\"CustomDebug called with args: %s, kwargs: %s\", args, kwargs)\n",
    "\n",
    "        frame = inspect.currentframe().f_back\n",
    "        context = inspect.getframeinfo(frame).code_context\n",
    "        if context:\n",
    "            call_line = context[0].strip()\n",
    "            debug_args = call_line[call_line.index('debug(') + 6:].rstrip(')').strip()\n",
    "            # logger.debug(\"Extracted debug args: %s\", debug_args)\n",
    "        else:\n",
    "            debug_args = 'unknown'\n",
    "            # logger.debug(\"Could not extract debug args\")\n",
    "\n",
    "        arg_expressions = re.findall(r'(?:[^,()]|\\([^()]*\\))+', debug_args)\n",
    "        arg_expressions = [arg.strip() for arg in arg_expressions]\n",
    "        \n",
    "        all_output = []\n",
    "        for i, arg in enumerate(args):\n",
    "            self.process_arg(arg, arg_expressions[i], all_output)\n",
    "\n",
    "        for key, value in kwargs.items():\n",
    "            self.process_arg(value, f\"{key}={repr(value)}\", all_output)\n",
    "\n",
    "        cleaned_output = '\\n'.join(all_output).strip()\n",
    "        \n",
    "        # logger.debug(\"Final cleaned output:\\n%s\", cleaned_output)\n",
    "        print(cleaned_output)\n",
    "\n",
    "    def process_arg(self, arg, expr, all_output):\n",
    "        old_stdout = sys.stdout\n",
    "        sys.stdout = StringIO()\n",
    "        \n",
    "        self.original_debug(arg)\n",
    "        \n",
    "        output = sys.stdout.getvalue()\n",
    "        sys.stdout = old_stdout\n",
    "        \n",
    "        # logger.debug(f\"Original debug output for {expr}:\\n%s\", output)\n",
    "        \n",
    "        lines = output.split('\\n')\n",
    "        cleaned_lines = []\n",
    "        for line in lines:\n",
    "            if 'ipykernel' not in line:\n",
    "                line = re.sub(r'^.*?<module>\\s*', '', line)\n",
    "                # logger.debug(\"Processing line: %s\", line)\n",
    "                if line.strip().startswith('arg:'):\n",
    "                    # Balance parentheses\n",
    "                    open_parens = expr.count('(')\n",
    "                    close_parens = expr.count(')')\n",
    "                    if open_parens > close_parens:\n",
    "                        expr += ')' * (open_parens - close_parens)\n",
    "                    line = f\"{expr}:{line.split(':', 1)[1]}\"\n",
    "                    logger.debug(\"Replaced arg placeholder: %s\", line)\n",
    "                cleaned_lines.append(line)\n",
    "        \n",
    "        all_output.extend(cleaned_lines)\n",
    "\n",
    "    def __getattr__(self, name):\n",
    "        return getattr(self.original_debug, name)\n",
    "\n",
    "debug = CustomDebug(_debug)"
   ]
  },
  {
   "cell_type": "markdown",
   "metadata": {},
   "source": [
    "## Example 1\n",
    "\n",
    "\n",
    "Key differences and advantages of `debug()`:\n",
    "\n",
    "- Formatting: `debug()` provides a well-indented, multi-line output that's much easier to read than the single-line output from print().\n",
    "- Custom Classes: Both `print()` and `debug()` respect the custom `__repr__` of the `Employee` class, but `debug()` presents them in a more readable format.\n",
    "- Complex Types: The `datetime.date` object and `numpy.array` are displayed clearly in the `debug()` output, making it easy to understand their types and values.\n",
    "- Nested Structures: The nested dictionary (`revenue`) and list (`products`) are clearly formatted in the `debug()` output, improving readability.\n",
    "- Context Information: debug() includes the file name and line number, which is extremely helpful when debugging larger code-bases.\n",
    "- Colour Highlighting: In a terminal, `debug()` would also provide syntax highlighting, further enhancing readability (not shown in this text-based example)."
   ]
  },
  {
   "cell_type": "code",
   "execution_count": 4,
   "metadata": {},
   "outputs": [],
   "source": [
    "import datetime\n",
    "import numpy as np"
   ]
  },
  {
   "cell_type": "code",
   "execution_count": 5,
   "metadata": {},
   "outputs": [],
   "source": [
    "class Employee:\n",
    "    def __init__(self, name, role):\n",
    "        self.name = name\n",
    "        self.role = role\n",
    "\n",
    "    def __repr__(self):\n",
    "        return f\"Employee('{self.name}', '{self.role}')\"\n",
    "\n",
    "\n",
    "company_data = {\n",
    "    \"name\": \"TechInnovate Inc.\",\n",
    "    \"founded\": datetime.date(2010, 5, 15),\n",
    "    \"employees\": [\n",
    "        Employee(\"Alice Johnson\", \"Software Engineer\"),\n",
    "        Employee(\"Bob Smith\", \"Data Scientist\"),\n",
    "    ],\n",
    "    \"revenue\": {\"2022\": 1500000, \"2023\": 2000000},\n",
    "    \"products\": [\"AI Assistant\", \"Smart Analytics\", \"Cloud Services\"],\n",
    "    \"market_share\": np.array([0.05, 0.07, 0.06, 0.08]),\n",
    "    \"active\": True,\n",
    "}"
   ]
  },
  {
   "cell_type": "code",
   "execution_count": 6,
   "metadata": {},
   "outputs": [
    {
     "name": "stdout",
     "output_type": "stream",
     "text": [
      "Using print():\n",
      "\n",
      "{'name': 'TechInnovate Inc.', 'founded': datetime.date(2010, 5, 15), 'employees': [Employee('Alice Johnson', 'Software Engineer'), Employee('Bob Smith', 'Data Scientist')], 'revenue': {'2022': 1500000, '2023': 2000000}, 'products': ['AI Assistant', 'Smart Analytics', 'Cloud Services'], 'market_share': array([0.05, 0.07, 0.06, 0.08]), 'active': True}\n"
     ]
    }
   ],
   "source": [
    "print(\"Using print():\\n\")\n",
    "print(company_data)"
   ]
  },
  {
   "cell_type": "code",
   "execution_count": 7,
   "metadata": {},
   "outputs": [
    {
     "name": "stdout",
     "output_type": "stream",
     "text": [
      "\n",
      "Using debug():\n",
      "\n",
      "company_data: {\n",
      "        'name': 'TechInnovate Inc.',\n",
      "        'founded': datetime.date(2010, 5, 15),\n",
      "        'employees': [\n",
      "            Employee('Alice Johnson', 'Software Engineer'),\n",
      "            Employee('Bob Smith', 'Data Scientist'),\n",
      "        ],\n",
      "        'revenue': {\n",
      "            '2022': 1500000,\n",
      "            '2023': 2000000,\n",
      "        },\n",
      "        'products': [\n",
      "            'AI Assistant',\n",
      "            'Smart Analytics',\n",
      "            'Cloud Services',\n",
      "        ],\n",
      "        'market_share': array([0.05, 0.07, 0.06, 0.08]),\n",
      "        'active': True,\n",
      "    } (dict) len=7\n"
     ]
    }
   ],
   "source": [
    "print(\"\\nUsing debug():\\n\")\n",
    "debug(company_data)"
   ]
  },
  {
   "cell_type": "markdown",
   "metadata": {},
   "source": [
    "## Example 2"
   ]
  },
  {
   "cell_type": "code",
   "execution_count": 8,
   "metadata": {},
   "outputs": [],
   "source": [
    "import time"
   ]
  },
  {
   "cell_type": "code",
   "execution_count": 9,
   "metadata": {},
   "outputs": [
    {
     "name": "stdout",
     "output_type": "stream",
     "text": [
      "x: [1, 2, 3] (list) len=3\n"
     ]
    }
   ],
   "source": [
    "x = [1, 2, 3]\n",
    "debug(x)"
   ]
  },
  {
   "cell_type": "code",
   "execution_count": 10,
   "metadata": {},
   "outputs": [],
   "source": [
    "def process_data(data):\n",
    "    time.sleep(2.1)  # Simulating some processing time\n",
    "    return [x * 2 for x in data]"
   ]
  },
  {
   "cell_type": "code",
   "execution_count": 11,
   "metadata": {},
   "outputs": [
    {
     "name": "stdout",
     "output_type": "stream",
     "text": [
      "Data Processing: 2.104s elapsed\n",
      "len(result): 1000 (int)\n"
     ]
    }
   ],
   "source": [
    "large_dataset = list(range(1000))\n",
    "\n",
    "with debug.timer(\"Data Processing\"):\n",
    "    result = process_data(large_dataset)\n",
    "\n",
    "debug(len(result))"
   ]
  },
  {
   "cell_type": "markdown",
   "metadata": {},
   "source": [
    "## Example 3:\n",
    "\n",
    "Complex number example\n"
   ]
  },
  {
   "cell_type": "code",
   "execution_count": 12,
   "metadata": {},
   "outputs": [
    {
     "name": "stdout",
     "output_type": "stream",
     "text": [
      "numbers: [\n",
      "        ComplexNumber(1, 2),\n",
      "        ComplexNumber(3, -4),\n",
      "    ] (list) len=2\n"
     ]
    }
   ],
   "source": [
    "class ComplexNumber:\n",
    "    def __init__(self, real, imag):\n",
    "        self.real = real\n",
    "        self.imag = imag\n",
    "\n",
    "    def __repr__(self):\n",
    "        return f\"ComplexNumber({self.real}, {self.imag})\"\n",
    "\n",
    "\n",
    "numbers = [ComplexNumber(1, 2), ComplexNumber(3, -4)]\n",
    "debug(numbers)"
   ]
  },
  {
   "cell_type": "markdown",
   "metadata": {},
   "source": [
    "## Examples from Documentation"
   ]
  },
  {
   "cell_type": "markdown",
   "metadata": {},
   "source": [
    "Eg. A."
   ]
  },
  {
   "cell_type": "code",
   "execution_count": 13,
   "metadata": {},
   "outputs": [
    {
     "name": "stdout",
     "output_type": "stream",
     "text": [
      "v1: {\n",
      "        'foo': {\n",
      "            1: 'nested',\n",
      "            2: 'dict',\n",
      "        },\n",
      "        'bar': [\n",
      "            'apple',\n",
      "            'banana',\n",
      "            'carrot',\n",
      "            'grapefruit',\n",
      "        ],\n",
      "    } (dict) len=2\n",
      "\n",
      "sum(range(5)): 10 (int)\n"
     ]
    }
   ],
   "source": [
    "v1 = {\n",
    "    'foo': {1: 'nested', 2: 'dict'},\n",
    "    'bar': ['apple', 'banana', 'carrot', 'grapefruit'],\n",
    "}\n",
    "\n",
    "debug(v1, sum(range(5)))"
   ]
  },
  {
   "cell_type": "code",
   "execution_count": 15,
   "metadata": {},
   "outputs": [
    {
     "name": "stdout",
     "output_type": "stream",
     "text": [
      "x: [1, 2, 3] (list) len=3\n",
      "v1: {\n",
      "        'foo': {\n",
      "            1: 'nested',\n",
      "            2: 'dict',\n",
      "        },\n",
      "        'bar': [\n",
      "            'apple',\n",
      "            'banana',\n",
      "            'carrot',\n",
      "            'grapefruit',\n",
      "        ],\n",
      "    } (dict) len=2\n",
      "\n",
      "sum(range(5)): 10 (int)\n",
      "square(5): 25 (int)\n",
      "a * b + len([1): 203 (int)\n",
      "Data Processing: 0.000s elapsed\n",
      "len(result): 1000 (int)\n"
     ]
    }
   ],
   "source": [
    "# Example 1: Single argument\n",
    "x = [1, 2, 3]\n",
    "debug(x)\n",
    "\n",
    "# Example 2: Multiple arguments\n",
    "v1 = {\n",
    "    'foo': {1: 'nested', 2: 'dict'},\n",
    "    'bar': ['apple', 'banana', 'carrot', 'grapefruit'],\n",
    "}\n",
    "debug(v1, sum(range(5)))\n",
    "\n",
    "# Example 3: Function call\n",
    "def square(n):\n",
    "    return n ** 2\n",
    "debug(square(5))\n",
    "\n",
    "# Example 4: Complex expression\n",
    "a, b = 10, 20\n",
    "debug(a * b + len([1, 2, 3]))\n",
    "\n",
    "# Example 5: With timer\n",
    "large_dataset = list(range(1000))\n",
    "with debug.timer('Data Processing'):\n",
    "    result = [x**2 for x in large_dataset]\n",
    "debug(len(result))"
   ]
  },
  {
   "cell_type": "code",
   "execution_count": 16,
   "metadata": {},
   "outputs": [
    {
     "name": "stdout",
     "output_type": "stream",
     "text": [
      "foo: {\n",
      "        'foo': (\n",
      "            array([ 0,  1,  2,  3,  4,  5,  6,  7,  8,  9, 10, 11, 12, 13, 14, 15, 16,\n",
      "                   17, 18, 19])\n",
      "        ),\n",
      "        'bar': [\n",
      "            {\n",
      "                'a': 0,\n",
      "                'b': {0},\n",
      "            },\n",
      "            {\n",
      "                'a': 1,\n",
      "                'b': {0, 1, 2},\n",
      "            },\n",
      "            {\n",
      "                'a': 2,\n",
      "                'b': {\n",
      "                    0,\n",
      "                    1,\n",
      "                    2,\n",
      "                    3,\n",
      "                    4,\n",
      "                },\n",
      "            },\n",
      "        ],\n",
      "        'spam': (\n",
      "            'i',\n",
      "            'am',\n",
      "            'a',\n",
      "            'generator',\n",
      "        ),\n",
      "    } (dict) len=3\n",
      "\n"
     ]
    },
    {
     "ename": "IndexError",
     "evalue": "list index out of range",
     "output_type": "error",
     "traceback": [
      "\u001b[0;31m---------------------------------------------------------------------------\u001b[0m",
      "\u001b[0;31mIndexError\u001b[0m                                Traceback (most recent call last)",
      "Cell \u001b[0;32mIn[16], line 17\u001b[0m\n\u001b[1;32m     15\u001b[0m bar \u001b[38;5;241m=\u001b[39m {\u001b[38;5;241m1\u001b[39m: \u001b[38;5;241m2\u001b[39m, \u001b[38;5;241m11\u001b[39m: \u001b[38;5;241m12\u001b[39m}\n\u001b[1;32m     16\u001b[0m \u001b[38;5;66;03m# debug can also show the output of expressions\u001b[39;00m\n\u001b[0;32m---> 17\u001b[0m \u001b[43mdebug\u001b[49m\u001b[43m(\u001b[49m\n\u001b[1;32m     18\u001b[0m \u001b[43m    \u001b[49m\u001b[38;5;28;43mlen\u001b[39;49m\u001b[43m(\u001b[49m\u001b[43mfoo\u001b[49m\u001b[43m)\u001b[49m\u001b[43m,\u001b[49m\n\u001b[1;32m     19\u001b[0m \u001b[43m    \u001b[49m\u001b[43mbar\u001b[49m\u001b[43m[\u001b[49m\u001b[38;5;241;43m1\u001b[39;49m\u001b[43m]\u001b[49m\u001b[43m,\u001b[49m\n\u001b[1;32m     20\u001b[0m \u001b[43m    \u001b[49m\u001b[43mfoo\u001b[49m\u001b[43m \u001b[49m\u001b[38;5;241;43m==\u001b[39;49m\u001b[43m \u001b[49m\u001b[43mbar\u001b[49m\n\u001b[1;32m     21\u001b[0m \u001b[43m)\u001b[49m\n",
      "Cell \u001b[0;32mIn[3], line 64\u001b[0m, in \u001b[0;36mCustomDebug.__call__\u001b[0;34m(self, *args, **kwargs)\u001b[0m\n\u001b[1;32m     62\u001b[0m \u001b[38;5;66;03m# logger.debug(\"Processing line: %s\", line)\u001b[39;00m\n\u001b[1;32m     63\u001b[0m \u001b[38;5;28;01mif\u001b[39;00m line\u001b[38;5;241m.\u001b[39mstrip()\u001b[38;5;241m.\u001b[39mstartswith(\u001b[38;5;124m'\u001b[39m\u001b[38;5;124marg:\u001b[39m\u001b[38;5;124m'\u001b[39m):\n\u001b[0;32m---> 64\u001b[0m     expr \u001b[38;5;241m=\u001b[39m \u001b[43marg_expressions\u001b[49m\u001b[43m[\u001b[49m\u001b[43mi\u001b[49m\u001b[43m]\u001b[49m\n\u001b[1;32m     65\u001b[0m     \u001b[38;5;66;03m# Balance parentheses\u001b[39;00m\n\u001b[1;32m     66\u001b[0m     open_parens \u001b[38;5;241m=\u001b[39m expr\u001b[38;5;241m.\u001b[39mcount(\u001b[38;5;124m'\u001b[39m\u001b[38;5;124m(\u001b[39m\u001b[38;5;124m'\u001b[39m)\n",
      "\u001b[0;31mIndexError\u001b[0m: list index out of range"
     ]
    }
   ],
   "source": [
    "foo = {\n",
    "    'foo': np.array(range(20)),\n",
    "    'bar': [{'a': i, 'b': {j for j in range(1 + i * 2)}} for i in range(3)],\n",
    "    'spam': (i for i in ['i', 'am', 'a', 'generator']),\n",
    "}\n",
    "\n",
    "debug(foo)\n",
    "\n",
    "# kwargs can be used as keys for what you are printing\n",
    "debug(\n",
    "    long_string='long strings get wrapped ' * 10,\n",
    "    new_line_string='wraps also on newline\\n' * 3,\n",
    ")\n",
    "\n",
    "bar = {1: 2, 11: 12}\n",
    "# debug can also show the output of expressions\n",
    "debug(\n",
    "    len(foo),\n",
    "    bar[1],\n",
    "    foo == bar\n",
    ")"
   ]
  },
  {
   "cell_type": "code",
   "execution_count": null,
   "metadata": {},
   "outputs": [],
   "source": []
  }
 ],
 "metadata": {
  "kernelspec": {
   "display_name": ".venv",
   "language": "python",
   "name": "python3"
  },
  "language_info": {
   "codemirror_mode": {
    "name": "ipython",
    "version": 3
   },
   "file_extension": ".py",
   "mimetype": "text/x-python",
   "name": "python",
   "nbconvert_exporter": "python",
   "pygments_lexer": "ipython3",
   "version": "3.11.9"
  }
 },
 "nbformat": 4,
 "nbformat_minor": 2
}
